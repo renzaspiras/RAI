{
 "cells": [
  {
   "cell_type": "markdown",
   "metadata": {},
   "source": [
    "# This is the most stupid LLM....."
   ]
  },
  {
   "cell_type": "markdown",
   "metadata": {},
   "source": [
    "## Imports"
   ]
  },
  {
   "cell_type": "code",
   "execution_count": null,
   "metadata": {},
   "outputs": [],
   "source": [
    "import os\n",
    "import json\n",
    "import ollama\n",
    "import random\n",
    "import re"
   ]
  },
  {
   "cell_type": "markdown",
   "metadata": {},
   "source": [
    "## Ollama Functions"
   ]
  },
  {
   "cell_type": "code",
   "execution_count": null,
   "metadata": {},
   "outputs": [],
   "source": [
    "def think(str):\n",
    "  response = ollama.chat(model='mistral', messages=[\n",
    "    {\n",
    "      'role': 'user',\n",
    "      'content': f'{str}',\n",
    "    },\n",
    "  ])\n",
    "  return response['message']['content'] #type: ignore"
   ]
  },
  {
   "cell_type": "markdown",
   "metadata": {},
   "source": [
    "## Variables"
   ]
  },
  {
   "cell_type": "code",
   "execution_count": null,
   "metadata": {},
   "outputs": [],
   "source": [
    "# Variables\n",
    "data_directory = \"data\"\n",
    "convo = \"convo.json\"\n",
    "info = \"info.json\"\n",
    "\n",
    "# Paths\n",
    "convo_path = data_directory + \"/\" + convo\n",
    "info_path = data_directory + \"/\" + info\n",
    "\n",
    "characters_to_remove = \"[];!?\\\\/\\\"' \""
   ]
  },
  {
   "cell_type": "markdown",
   "metadata": {},
   "source": [
    "## Prompts"
   ]
  },
  {
   "cell_type": "code",
   "execution_count": null,
   "metadata": {},
   "outputs": [],
   "source": [
    "def interaction_rules(str):\n",
    "  blob = f'''\n",
    "  ## Take note\n",
    "  - it must not have numbers\n",
    "  - it is not listed numbers, I only need 1\n",
    "  - english only\n",
    "  - if it is a question, include question mark '?'\n",
    "  - Do not include the [your name] part  \n",
    "  - if it is a listed with numbers, like for example:\n",
    "    1. data1\n",
    "    2. data2\n",
    "  - please remove the numbers. and make it numberless instead:\n",
    "    [data1], [data2]\n",
    "  - each ${str} must be contain on a square brackets\n",
    "  - NEVER FORGET THE [SQUARE BRACKETS] AND \",\" FOR DIVISION\n",
    "  - do not use special characters like slsh and backslash, and double quote\n",
    "  '''\n",
    "  return blob"
   ]
  },
  {
   "cell_type": "markdown",
   "metadata": {},
   "source": [
    "#### Greetings"
   ]
  },
  {
   "cell_type": "code",
   "execution_count": null,
   "metadata": {},
   "outputs": [],
   "source": [
    "greetings_word = f'''\n",
    "Provide me a 5 list words that can initiate a greetings, only 5 words outcome\n",
    "for example:\n",
    "[hi], [hello], [hello there]\n",
    "{interaction_rules(\"words\")}\n",
    "'''"
   ]
  },
  {
   "cell_type": "code",
   "execution_count": null,
   "metadata": {},
   "outputs": [],
   "source": [
    "greetings_phrase = f'''\n",
    "Provide me a 5 list words or phrase that can initiate a greetings, only 5 outcome\n",
    "for example:\n",
    "[hello there],[hi there],[howdy]\n",
    "\n",
    "{interaction_rules(\"phrase or word\")}\n",
    "'''"
   ]
  },
  {
   "cell_type": "code",
   "execution_count": null,
   "metadata": {},
   "outputs": [],
   "source": [
    "greetings_sentence = f'''\n",
    "Provide me a 5 list of sentences or questions that can initiate a greetings, only 5 outcome\n",
    "for example:\n",
    "[how are you doing today?],[how are you?]\n",
    "\n",
    "{interaction_rules(\"sentences or questions\")}\n",
    "'''"
   ]
  },
  {
   "cell_type": "markdown",
   "metadata": {},
   "source": [
    "## File Initialization Dependencies"
   ]
  },
  {
   "cell_type": "code",
   "execution_count": null,
   "metadata": {},
   "outputs": [],
   "source": [
    "# Ensures that the data are present....\n",
    "def mkjson(filename):\n",
    "    if not os.path.exists(filename):\n",
    "        with open(filename, 'w') as file:\n",
    "            pass\n",
    "if not os.path.exists(data_directory):\n",
    "    os.makedirs(data_directory)\n",
    "\n",
    "mkjson(convo_path)\n",
    "mkjson(info_path)"
   ]
  },
  {
   "cell_type": "markdown",
   "metadata": {},
   "source": [
    "## JSON Dataset"
   ]
  },
  {
   "cell_type": "markdown",
   "metadata": {},
   "source": [
    "### Template"
   ]
  },
  {
   "cell_type": "code",
   "execution_count": null,
   "metadata": {},
   "outputs": [],
   "source": [
    "def is_file_blank(file_path):\n",
    "    if os.path.exists(file_path):\n",
    "        if os.path.getsize(file_path) >= 1:\n",
    "            return False  # File is not blank\n",
    "        else:\n",
    "            return True  # File is blank\n",
    "    else:\n",
    "        return None  # File does not exist"
   ]
  },
  {
   "cell_type": "code",
   "execution_count": null,
   "metadata": {},
   "outputs": [],
   "source": [
    "if is_file_blank(convo_path):\n",
    "  data = {\n",
    "    \"questions\": []\n",
    "  }\n",
    "  with open(convo_path, \"w\") as json_file:\n",
    "    json.dump(data, json_file)"
   ]
  },
  {
   "cell_type": "markdown",
   "metadata": {},
   "source": [
    "### JSON Functions"
   ]
  },
  {
   "cell_type": "code",
   "execution_count": null,
   "metadata": {},
   "outputs": [],
   "source": [
    "def load_json(file_path):\n",
    "    with open(file_path, 'r') as file:\n",
    "        return json.load(file)"
   ]
  },
  {
   "cell_type": "code",
   "execution_count": null,
   "metadata": {},
   "outputs": [],
   "source": [
    "def write_json(file_path, data):\n",
    "    with open(file_path, 'w') as file:\n",
    "        json.dump(data, file, indent=4)"
   ]
  },
  {
   "cell_type": "code",
   "execution_count": null,
   "metadata": {},
   "outputs": [],
   "source": [
    "def ask(str):\n",
    "    # Function to load JSON from file\n",
    "    def load_json(file_path):\n",
    "        with open(file_path, 'r') as file:\n",
    "            return json.load(file)\n",
    "\n",
    "    # Function to write JSON to file\n",
    "    def write_json(file_path, data):\n",
    "        with open(file_path, 'w') as file:\n",
    "            file.write(data)\n",
    "\n",
    "    data = load_json(convo_path)\n",
    "    questions = data['questions']\n",
    "    \n",
    "    # Check if the provided string is already present in any existing question\n",
    "    str_exists = any(str in q['question'] for q in questions)\n",
    "\n",
    "    # If the string is not present, add it as a new question\n",
    "    if not str_exists:\n",
    "        data['questions'].append({\"question\": str, \"response\": []})\n",
    "        transformed_json = json.dumps(data, indent=2)\n",
    "        write_json(convo_path, transformed_json)\n",
    "        print(transformed_json)\n",
    "    else:\n",
    "        print(f\"The question '{str}' already exists in the conversation data.\")"
   ]
  },
  {
   "cell_type": "markdown",
   "metadata": {},
   "source": [
    "## User Questions Prediction Mining"
   ]
  },
  {
   "cell_type": "markdown",
   "metadata": {},
   "source": [
    "### Question Mining"
   ]
  },
  {
   "cell_type": "code",
   "execution_count": null,
   "metadata": {},
   "outputs": [],
   "source": [
    "def question_juiced_up():\n",
    "  promps = [\n",
    "    greetings_word,\n",
    "    greetings_phrase,\n",
    "    greetings_sentence\n",
    "  ]\n",
    "  random_number = random.randint(0, len(promps)-1)\n",
    "  inserto = promps[random_number]\n",
    "  print(\"--> inserto: \", inserto)\n",
    "  qm = think(inserto)\n",
    "  qm_arr = re.findall(r'\\[([^\\]]+)\\]', qm)\n",
    "  for j in qm_arr:\n",
    "    ask(j)\n",
    "  \n",
    "try:\n",
    "  question_juiced_up()\n",
    "except:\n",
    "  print(\"Output Error...\")"
   ]
  },
  {
   "cell_type": "markdown",
   "metadata": {},
   "source": [
    "### Validation Mining"
   ]
  },
  {
   "cell_type": "code",
   "execution_count": null,
   "metadata": {},
   "outputs": [],
   "source": [
    "datos = load_json(convo_path)\n",
    "questions = datos[\"questions\"][:] \n",
    "\n",
    "questions_to_remove = []\n",
    "for question in questions:\n",
    "    if '\"' in question[\"question\"]:\n",
    "        questions_to_remove.append(question)\n",
    "\n",
    "for question in questions_to_remove:\n",
    "    datos[\"questions\"].remove(question)\n",
    "\n",
    "write_json(convo_path, datos)"
   ]
  }
 ],
 "metadata": {
  "kernelspec": {
   "display_name": "core",
   "language": "python",
   "name": "python3"
  },
  "language_info": {
   "codemirror_mode": {
    "name": "ipython",
    "version": 3
   },
   "file_extension": ".py",
   "mimetype": "text/x-python",
   "name": "python",
   "nbconvert_exporter": "python",
   "pygments_lexer": "ipython3",
   "version": "3.11.8"
  }
 },
 "nbformat": 4,
 "nbformat_minor": 2
}
